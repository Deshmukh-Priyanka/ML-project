{
 "cells": [
  {
   "cell_type": "markdown",
   "id": "f4131675",
   "metadata": {},
   "source": [
    "# Title : Bear vs Panda Recognition Image Dataset"
   ]
  },
  {
   "cell_type": "markdown",
   "id": "603b9179",
   "metadata": {},
   "source": [
    "## About Dataset"
   ]
  },
  {
   "cell_type": "raw",
   "id": "e076a98f",
   "metadata": {},
   "source": [
    "Here we have an image bank of Pandas and Bears divided into 2 classes, we have 600 images divided between Train and Test. Here in this study we will analyze the images and perform all the training of the neural network using CNN to perform the classification of these images."
   ]
  },
  {
   "cell_type": "markdown",
   "id": "36a8d9a9",
   "metadata": {},
   "source": [
    "## Importing Libraries"
   ]
  },
  {
   "cell_type": "code",
   "execution_count": 1,
   "id": "3ee8efc9",
   "metadata": {},
   "outputs": [
    {
     "name": "stdout",
     "output_type": "stream",
     "text": [
      "WARNING:tensorflow:From C:\\Users\\datta\\anaconda3\\Lib\\site-packages\\keras\\src\\losses.py:2976: The name tf.losses.sparse_softmax_cross_entropy is deprecated. Please use tf.compat.v1.losses.sparse_softmax_cross_entropy instead.\n",
      "\n"
     ]
    }
   ],
   "source": [
    "import numpy as np\n",
    "import tensorflow as tf\n",
    "from tensorflow.keras.preprocessing.image import ImageDataGenerator\n",
    "from tensorflow.keras.models import Sequential\n",
    "from tensorflow.keras.layers import Conv2D, MaxPool2D, Dense, Flatten, Dropout\n",
    "import os\n",
    "import warnings\n",
    "warnings.filterwarnings(\"ignore\")"
   ]
  },
  {
   "cell_type": "markdown",
   "id": "ef67e0ca",
   "metadata": {},
   "source": [
    "## Load Dataset"
   ]
  },
  {
   "cell_type": "code",
   "execution_count": 2,
   "id": "44148cf0",
   "metadata": {},
   "outputs": [],
   "source": [
    "train_dir = r\"C:\\Users\\datta\\OneDrive\\Desktop\\3RI Pawan sir\\My Project\\Pandas vs Bear\\PandasBears\\Train\"\n",
    "test_dir = r\"C:\\Users\\datta\\OneDrive\\Desktop\\3RI Pawan sir\\My Project\\Pandas vs Bear\\PandasBears\\Test\""
   ]
  },
  {
   "cell_type": "raw",
   "id": "c022e9a7",
   "metadata": {},
   "source": [
    "Defines two variables train_dir and test_dir which contain the file paths of the training and testing datasets, respectively."
   ]
  },
  {
   "cell_type": "markdown",
   "id": "3b1e471e",
   "metadata": {},
   "source": [
    "## Image Data Generation"
   ]
  },
  {
   "cell_type": "code",
   "execution_count": 3,
   "id": "c116b850",
   "metadata": {},
   "outputs": [],
   "source": [
    "img_width, img_height = 256, 256"
   ]
  },
  {
   "cell_type": "raw",
   "id": "f4fd7756",
   "metadata": {},
   "source": [
    "For all images in one size."
   ]
  },
  {
   "cell_type": "code",
   "execution_count": 4,
   "id": "c5928c2c",
   "metadata": {},
   "outputs": [],
   "source": [
    "batch_size = 32"
   ]
  },
  {
   "cell_type": "code",
   "execution_count": null,
   "id": "72d04eea",
   "metadata": {},
   "outputs": [],
   "source": [
    "Batch size is the number of traing samples used to compute the model parameters during training process.\n",
    "Batch size can significantly impact the training efficiency and model performance."
   ]
  },
  {
   "cell_type": "markdown",
   "id": "823a64b9",
   "metadata": {},
   "source": [
    "# Image Augmentation"
   ]
  },
  {
   "cell_type": "code",
   "execution_count": 5,
   "id": "22f307cf",
   "metadata": {},
   "outputs": [],
   "source": [
    "train_dataset = ImageDataGenerator(\n",
    "    rescale=1. / 255,\n",
    "    rotation_range=20,\n",
    "    width_shift_range=0.2,\n",
    "    height_shift_range=0.2,\n",
    "    shear_range=0.2,\n",
    "    zoom_range=0.2,\n",
    "    horizontal_flip=True\n",
    ")"
   ]
  },
  {
   "cell_type": "raw",
   "id": "78b0947a",
   "metadata": {},
   "source": [
    "ImageDataGenerator(rescale=1./255): Here, an ImageDataGenerator object is created. This object will be used to \n",
    "augment the image data during training and validation. The rescale=1./255 argument scales the pixel values of the \n",
    "images between 0 and 1, which is a common practice for neural networks that use image data."
   ]
  },
  {
   "cell_type": "code",
   "execution_count": 6,
   "id": "fd506eb5",
   "metadata": {},
   "outputs": [],
   "source": [
    "test_dataset = ImageDataGenerator(rescale=1./255)"
   ]
  },
  {
   "cell_type": "markdown",
   "id": "0fd65a49",
   "metadata": {},
   "source": [
    "## Data Preprocessing"
   ]
  },
  {
   "cell_type": "code",
   "execution_count": 7,
   "id": "08bf8f63",
   "metadata": {},
   "outputs": [
    {
     "name": "stdout",
     "output_type": "stream",
     "text": [
      "Found 500 images belonging to 2 classes.\n"
     ]
    }
   ],
   "source": [
    "X_train = train_dataset.flow_from_directory(\n",
    "    train_dir,\n",
    "    target_size=(img_width, img_height),\n",
    "    batch_size=batch_size,\n",
    "    class_mode=\"categorical\"\n",
    ")"
   ]
  },
  {
   "cell_type": "raw",
   "id": "ac13216d",
   "metadata": {},
   "source": [
    "•This train_dataset is created using train_dataset.flow_from_directory() to flow image data from the train Dataset.It takes the file paths ('Filepath') .\n",
    "•target_size: The size to which all the images will be resized during the loading process.\n",
    "•batch_size: The number of samples in each batch.\n",
    "•class_mode: the labels are represented in a categorical format (class_mode='categorical')."
   ]
  },
  {
   "cell_type": "code",
   "execution_count": 8,
   "id": "03faf6f9",
   "metadata": {},
   "outputs": [
    {
     "data": {
      "text/plain": [
       "16"
      ]
     },
     "execution_count": 8,
     "metadata": {},
     "output_type": "execute_result"
    }
   ],
   "source": [
    "len(X_train)"
   ]
  },
  {
   "cell_type": "code",
   "execution_count": 9,
   "id": "213d3a4f",
   "metadata": {},
   "outputs": [
    {
     "name": "stdout",
     "output_type": "stream",
     "text": [
      "Found 100 images belonging to 2 classes.\n"
     ]
    }
   ],
   "source": [
    "X_test = test_dataset.flow_from_directory(\n",
    "    test_dir,\n",
    "    target_size=(img_width, img_height),\n",
    "    batch_size=batch_size,\n",
    "    class_mode=\"categorical\"\n",
    ")"
   ]
  },
  {
   "cell_type": "raw",
   "id": "af0d291c",
   "metadata": {},
   "source": [
    "• This  is similar to X_train but is created for the validation data."
   ]
  },
  {
   "cell_type": "markdown",
   "id": "e69ef886",
   "metadata": {},
   "source": [
    "## Sequential Model"
   ]
  },
  {
   "cell_type": "code",
   "execution_count": 10,
   "id": "80bd705b",
   "metadata": {},
   "outputs": [
    {
     "name": "stdout",
     "output_type": "stream",
     "text": [
      "WARNING:tensorflow:From C:\\Users\\datta\\anaconda3\\Lib\\site-packages\\keras\\src\\backend.py:873: The name tf.get_default_graph is deprecated. Please use tf.compat.v1.get_default_graph instead.\n",
      "\n",
      "WARNING:tensorflow:From C:\\Users\\datta\\anaconda3\\Lib\\site-packages\\keras\\src\\layers\\pooling\\max_pooling2d.py:161: The name tf.nn.max_pool is deprecated. Please use tf.nn.max_pool2d instead.\n",
      "\n"
     ]
    }
   ],
   "source": [
    "model = Sequential([\n",
    "    Conv2D(32, (3, 3), activation=\"relu\", input_shape=(img_width, img_height, 3)),\n",
    "    MaxPool2D((2,2)),\n",
    "    Conv2D(64, (3, 3), activation=\"relu\"),\n",
    "    MaxPool2D((2, 2)),\n",
    "    Dropout(0.5),\n",
    "    Conv2D(128, (3, 3), activation=\"relu\"),\n",
    "    MaxPool2D((2, 2)),\n",
    "    Dropout(0.5),\n",
    "    Conv2D(128, (3, 3), activation=\"relu\"),\n",
    "    MaxPool2D((2, 2)),\n",
    "    Flatten(),\n",
    "    Dense(512, activation=\"relu\"),\n",
    "    Dense(256, activation=\"relu\"),\n",
    "    Dense(2, activation=\"softmax\")\n",
    "])"
   ]
  },
  {
   "cell_type": "raw",
   "id": "cc16e984",
   "metadata": {},
   "source": [
    "Defines a simple Convolutional Neural Network (CNN) model using the tensorflow.Keras.model import Sequential."
   ]
  },
  {
   "cell_type": "raw",
   "id": "f1f9bdf7",
   "metadata": {},
   "source": [
    "It uses convolutional and pooling layers to extract features from the input image, followed by fully connected layers for\n",
    "classification. The dropout layer helps prevent overfitting during training. The softmax activation in the output layer \n",
    "provides probabilities for each class."
   ]
  },
  {
   "cell_type": "raw",
   "id": "776399bc",
   "metadata": {},
   "source": [
    "Conv2D is the first convolutional layer with 32 filters, each of size (3,3), using the ReLU activation function.\n",
    "The input_shape parameter defines the shape of your input data, which is assumed to be an image with img_width, \n",
    "img_height, and 3 color channels (RGB).    \n",
    "    \n",
    "MaxPool2D layer performs max pooling with a pool size of (2,2). It reduces the dimensions (width and height) of the\n",
    "input by taking the maximum value in a 2x2 window."
   ]
  },
  {
   "cell_type": "raw",
   "id": "27acc140",
   "metadata": {},
   "source": [
    "Flatten layer flattens the output of the previous layer into a one-dimensional vector. It prepares the data for the fully \n",
    "connected layers."
   ]
  },
  {
   "cell_type": "raw",
   "id": "de9979e0",
   "metadata": {},
   "source": [
    "Two hidden dense layers with 512 and 256 neurons, respectively, and ReLU activation functions. These layers are fully connected."
   ]
  },
  {
   "cell_type": "raw",
   "id": "513d502d",
   "metadata": {},
   "source": [
    "The output layer with 2 neurons (we have classification task with 2 classes) and softmax activation. "
   ]
  },
  {
   "cell_type": "markdown",
   "id": "bdc985a2",
   "metadata": {},
   "source": [
    "## Compilation Of A Model"
   ]
  },
  {
   "cell_type": "code",
   "execution_count": null,
   "id": "3528defe",
   "metadata": {},
   "outputs": [],
   "source": []
  },
  {
   "cell_type": "code",
   "execution_count": 11,
   "id": "460df0c4",
   "metadata": {},
   "outputs": [
    {
     "name": "stdout",
     "output_type": "stream",
     "text": [
      "WARNING:tensorflow:From C:\\Users\\datta\\anaconda3\\Lib\\site-packages\\keras\\src\\optimizers\\__init__.py:309: The name tf.train.Optimizer is deprecated. Please use tf.compat.v1.train.Optimizer instead.\n",
      "\n"
     ]
    }
   ],
   "source": [
    "model.compile(optimizer=\"adam\", loss=\"categorical_crossentropy\", metrics=[\"accuracy\"])"
   ]
  },
  {
   "cell_type": "raw",
   "id": "51647bf8",
   "metadata": {},
   "source": [
    "The optimizer is the algorithm used to update the weights of the neural network in order to minimize the loss function. "
   ]
  },
  {
   "cell_type": "raw",
   "id": "0b7e244a",
   "metadata": {},
   "source": [
    "loss='categorical_crossentropy': The categorical cross-entropy loss is commonly used for multi-class classification problems."
   ]
  },
  {
   "cell_type": "raw",
   "id": "024551da",
   "metadata": {},
   "source": [
    "Metrics are used to evaluate the performance of the model during training and testing. "
   ]
  },
  {
   "cell_type": "markdown",
   "id": "7ee384d9",
   "metadata": {},
   "source": [
    "## Fit The Model"
   ]
  },
  {
   "cell_type": "code",
   "execution_count": 12,
   "id": "c5be80e7",
   "metadata": {},
   "outputs": [
    {
     "name": "stdout",
     "output_type": "stream",
     "text": [
      "Epoch 1/10\n",
      "WARNING:tensorflow:From C:\\Users\\datta\\anaconda3\\Lib\\site-packages\\keras\\src\\utils\\tf_utils.py:492: The name tf.ragged.RaggedTensorValue is deprecated. Please use tf.compat.v1.ragged.RaggedTensorValue instead.\n",
      "\n",
      "WARNING:tensorflow:From C:\\Users\\datta\\anaconda3\\Lib\\site-packages\\keras\\src\\engine\\base_layer_utils.py:384: The name tf.executing_eagerly_outside_functions is deprecated. Please use tf.compat.v1.executing_eagerly_outside_functions instead.\n",
      "\n",
      "16/16 [==============================] - 81s 4s/step - loss: 1.3439 - accuracy: 0.6380 - val_loss: 0.6902 - val_accuracy: 0.5000\n",
      "Epoch 2/10\n",
      "16/16 [==============================] - 62s 4s/step - loss: 0.5786 - accuracy: 0.7100 - val_loss: 0.3363 - val_accuracy: 0.8700\n",
      "Epoch 3/10\n",
      "16/16 [==============================] - 62s 4s/step - loss: 0.5377 - accuracy: 0.7900 - val_loss: 0.4391 - val_accuracy: 0.9900\n",
      "Epoch 4/10\n",
      "16/16 [==============================] - 58s 4s/step - loss: 0.2844 - accuracy: 0.8920 - val_loss: 0.1121 - val_accuracy: 1.0000\n",
      "Epoch 5/10\n",
      "16/16 [==============================] - 57s 3s/step - loss: 0.1665 - accuracy: 0.9400 - val_loss: 0.1672 - val_accuracy: 0.9600\n",
      "Epoch 6/10\n",
      "16/16 [==============================] - 58s 4s/step - loss: 0.0530 - accuracy: 0.9820 - val_loss: 0.0536 - val_accuracy: 0.9900\n",
      "Epoch 7/10\n",
      "16/16 [==============================] - 57s 4s/step - loss: 0.0227 - accuracy: 0.9960 - val_loss: 0.0435 - val_accuracy: 0.9900\n",
      "Epoch 8/10\n",
      "16/16 [==============================] - 63s 4s/step - loss: 0.0171 - accuracy: 0.9960 - val_loss: 0.0091 - val_accuracy: 1.0000\n",
      "Epoch 9/10\n",
      "16/16 [==============================] - 60s 4s/step - loss: 0.0545 - accuracy: 0.9780 - val_loss: 0.0768 - val_accuracy: 0.9900\n",
      "Epoch 10/10\n",
      "16/16 [==============================] - 77s 5s/step - loss: 0.0115 - accuracy: 0.9980 - val_loss: 0.0650 - val_accuracy: 0.9900\n"
     ]
    }
   ],
   "source": [
    "history = model.fit(X_train, epochs=10, validation_data=X_test)"
   ]
  },
  {
   "cell_type": "raw",
   "id": "bf5c8314",
   "metadata": {},
   "source": [
    "•model.fit() :The model.fit() function in Keras is used to train the neural network model.\n",
    "•X_train :This is the input training data that you'll use to train your model. \n",
    "•epochs: The number of training epochs, i.e., the number of times the model will iterate over the entire training dataset.\n",
    "•The validation_data parameter allows you to provide a separate dataset (here, X_test) for evaluating the model's performance during training. "
   ]
  },
  {
   "cell_type": "markdown",
   "id": "7f8089ae",
   "metadata": {},
   "source": [
    "## Visualization"
   ]
  },
  {
   "cell_type": "code",
   "execution_count": 13,
   "id": "a0fcd131",
   "metadata": {},
   "outputs": [],
   "source": [
    "import matplotlib.pyplot as plt"
   ]
  },
  {
   "cell_type": "code",
   "execution_count": 14,
   "id": "54d7ca4c",
   "metadata": {},
   "outputs": [
    {
     "data": {
      "image/png": "[encoded data removed]",
      "text/plain": [
       "<Figure size 640x480 with 1 Axes>"
      ]
     },
     "metadata": {},
     "output_type": "display_data"
    }
   ],
   "source": [
    "plt.plot(history.history[\"accuracy\"])\n",
    "plt.plot(history.history[\"val_accuracy\"])\n",
    "plt.title(\"Model Accuracy\")\n",
    "plt.xlabel(\"Epochs\")\n",
    "plt.ylabel(\"Accuracy\")\n",
    "plt.legend([\"Train\", \"Validation\"])\n",
    "plt.show()"
   ]
  },
  {
   "cell_type": "code",
   "execution_count": 15,
   "id": "2a16e6d0",
   "metadata": {},
   "outputs": [
    {
     "data": {
      "image/png": "[encoded data removed]",
      "text/plain": [
       "<Figure size 640x480 with 1 Axes>"
      ]
     },
     "metadata": {},
     "output_type": "display_data"
    }
   ],
   "source": [
    "plt.plot(history.history[\"loss\"])\n",
    "plt.plot(history.history[\"val_loss\"])\n",
    "plt.title(\"Model Loss\")\n",
    "plt.xlabel(\"Epochs\")\n",
    "plt.ylabel(\"Loss\")\n",
    "plt.legend([\"Train\", \"Validation\"])\n",
    "plt.show()"
   ]
  },
  {
   "cell_type": "markdown",
   "id": "8970e2ba",
   "metadata": {},
   "source": [
    "## Checking Index"
   ]
  },
  {
   "cell_type": "code",
   "execution_count": 16,
   "id": "5b07f6a4",
   "metadata": {},
   "outputs": [],
   "source": [
    "class_labels = X_train.class_indices"
   ]
  },
  {
   "cell_type": "raw",
   "id": "55ce68de",
   "metadata": {},
   "source": [
    "The class_indices attribute contains a dictionary that maps class names to their corresponding indices."
   ]
  },
  {
   "cell_type": "code",
   "execution_count": 17,
   "id": "d0464ff4",
   "metadata": {},
   "outputs": [
    {
     "name": "stdout",
     "output_type": "stream",
     "text": [
      "Class Names: {0: 'Bears', 1: 'Pandas'}\n"
     ]
    }
   ],
   "source": [
    "class_names = {value: key for key, value in class_labels.items()}\n",
    "print(\"Class Names:\", class_names)"
   ]
  },
  {
   "cell_type": "raw",
   "id": "4a7eadb4",
   "metadata": {},
   "source": [
    "class_labels.items(): This method returns a view of the dictionary's key-value pairs.\n",
    "{value: key for key, value in class_labels.items()}: This is a dictionary comprehension. \n",
    "It iterates over each key-value pair in class_labels"
   ]
  },
  {
   "cell_type": "markdown",
   "id": "dad870a3",
   "metadata": {},
   "source": [
    "## Prediction 1"
   ]
  },
  {
   "cell_type": "code",
   "execution_count": 18,
   "id": "d7978a9e",
   "metadata": {},
   "outputs": [],
   "source": [
    "from tensorflow.keras.preprocessing import image"
   ]
  },
  {
   "cell_type": "markdown",
   "id": "b9e65386",
   "metadata": {},
   "source": [
    "keras.preprocessing helps to handle the image augmentation."
   ]
  },
  {
   "cell_type": "code",
   "execution_count": 22,
   "id": "ac97cc65",
   "metadata": {},
   "outputs": [],
   "source": [
    "img_path = r\"C:\\Users\\datta\\OneDrive\\Pictures\\252.jpeg\""
   ]
  },
  {
   "cell_type": "raw",
   "id": "379af0f6",
   "metadata": {},
   "source": [
    "We are using a random image from dataset to identify its class."
   ]
  },
  {
   "cell_type": "code",
   "execution_count": 23,
   "id": "246641a0",
   "metadata": {},
   "outputs": [],
   "source": [
    "img = image.load_img(img_path, target_size=(img_width, img_height))"
   ]
  },
  {
   "cell_type": "raw",
   "id": "6987782c",
   "metadata": {},
   "source": [
    "This function loads an image from the specified file path (img_path) and resizes it to the specified target size. "
   ]
  },
  {
   "cell_type": "code",
   "execution_count": 24,
   "id": "83ae8a0c",
   "metadata": {},
   "outputs": [],
   "source": [
    "img_arr = image.img_to_array(img)"
   ]
  },
  {
   "cell_type": "raw",
   "id": "330fba06",
   "metadata": {},
   "source": [
    "This function converts a image into a NumPy array."
   ]
  },
  {
   "cell_type": "code",
   "execution_count": 25,
   "id": "8341a52f",
   "metadata": {},
   "outputs": [],
   "source": [
    "img_arr = np.expand_dims(img_arr, axis=0)"
   ]
  },
  {
   "cell_type": "raw",
   "id": "9dcd4ea2",
   "metadata": {},
   "source": [
    "The np.expand_dims function is used to add a new dimension to the array. It takes the array (img_arr) and adds a \n",
    "new dimension along the specified axis."
   ]
  },
  {
   "cell_type": "code",
   "execution_count": 26,
   "id": "c0373351",
   "metadata": {},
   "outputs": [],
   "source": [
    "img_arr = img_arr / 255.0"
   ]
  },
  {
   "cell_type": "raw",
   "id": "a883766e",
   "metadata": {},
   "source": [
    "It is normalizing the pixel values in the NumPy array img_arr. This process scales the original pixel values, \n",
    "which typically range from 0 to 255, to a standardized range between 0 and 1."
   ]
  },
  {
   "cell_type": "code",
   "execution_count": 27,
   "id": "3191fb2a",
   "metadata": {},
   "outputs": [
    {
     "name": "stdout",
     "output_type": "stream",
     "text": [
      "1/1 [==============================] - 0s 445ms/step\n"
     ]
    }
   ],
   "source": [
    "pred = model.predict(img_arr)"
   ]
  },
  {
   "cell_type": "raw",
   "id": "bcf18863",
   "metadata": {},
   "source": [
    "This method is used to obtain predictions from a trained neural network model.\n",
    "It takes input data and produces predictions based on the learned patterns."
   ]
  },
  {
   "cell_type": "code",
   "execution_count": 28,
   "id": "de9646cb",
   "metadata": {},
   "outputs": [],
   "source": [
    "pred_class = np.argmax(pred)"
   ]
  },
  {
   "cell_type": "raw",
   "id": "ea8c6e2f",
   "metadata": {},
   "source": [
    "argmax helps to identify the index of the class with the highest predicted probability, allowing you to determine the \n",
    "predicted class label."
   ]
  },
  {
   "cell_type": "code",
   "execution_count": 29,
   "id": "c6f1f841",
   "metadata": {},
   "outputs": [
    {
     "data": {
      "text/plain": [
       "'Bears'"
      ]
     },
     "execution_count": 29,
     "metadata": {},
     "output_type": "execute_result"
    }
   ],
   "source": [
    "class_names[pred_class]"
   ]
  },
  {
   "cell_type": "code",
   "execution_count": null,
   "id": "ec398572",
   "metadata": {},
   "outputs": [],
   "source": []
  },
  {
   "cell_type": "code",
   "execution_count": null,
   "id": "a99ee1df",
   "metadata": {},
   "outputs": [],
   "source": []
  },
  {
   "cell_type": "code",
   "execution_count": null,
   "id": "4661bc2c",
   "metadata": {},
   "outputs": [],
   "source": []
  },
  {
   "cell_type": "code",
   "execution_count": null,
   "id": "7a4b452c",
   "metadata": {},
   "outputs": [],
   "source": []
  },
  {
   "cell_type": "code",
   "execution_count": null,
   "id": "bdaf1090",
   "metadata": {},
   "outputs": [],
   "source": []
  },
  {
   "cell_type": "code",
   "execution_count": null,
   "id": "dd9f9120",
   "metadata": {},
   "outputs": [],
   "source": []
  },
  {
   "cell_type": "code",
   "execution_count": null,
   "id": "e8b2492f",
   "metadata": {},
   "outputs": [],
   "source": []
  },
  {
   "cell_type": "code",
   "execution_count": null,
   "id": "a1ba6192",
   "metadata": {},
   "outputs": [],
   "source": []
  },
  {
   "cell_type": "code",
   "execution_count": null,
   "id": "559fdf17",
   "metadata": {},
   "outputs": [],
   "source": []
  },
  {
   "cell_type": "markdown",
   "id": "d6f916f8",
   "metadata": {},
   "source": [
    "# Prediction 2"
   ]
  },
  {
   "cell_type": "code",
   "execution_count": null,
   "id": "3eb79865",
   "metadata": {},
   "outputs": [],
   "source": [
    "img_path = r\"C:\\Users\\datta\\OneDrive\\Documents\\panda_1.jpg\""
   ]
  },
  {
   "cell_type": "code",
   "execution_count": null,
   "id": "25bcd4b0",
   "metadata": {},
   "outputs": [],
   "source": [
    "img = image.load_img(img_path, target_size=(img_width, img_height))"
   ]
  },
  {
   "cell_type": "code",
   "execution_count": null,
   "id": "831c5a89",
   "metadata": {},
   "outputs": [],
   "source": [
    "img_arr = image.img_to_array(img)"
   ]
  },
  {
   "cell_type": "code",
   "execution_count": null,
   "id": "0821b15b",
   "metadata": {},
   "outputs": [],
   "source": [
    "img_arr = np.expand_dims(img_arr, axis=0)"
   ]
  },
  {
   "cell_type": "code",
   "execution_count": null,
   "id": "e62e9aca",
   "metadata": {},
   "outputs": [],
   "source": [
    "img_arr = img_arr / 255.0"
   ]
  },
  {
   "cell_type": "code",
   "execution_count": null,
   "id": "27a3c830",
   "metadata": {},
   "outputs": [],
   "source": [
    "pred = model.predict(img_arr)"
   ]
  },
  {
   "cell_type": "code",
   "execution_count": null,
   "id": "c01f313b",
   "metadata": {},
   "outputs": [],
   "source": [
    "pred_class = np.argmax(pred)"
   ]
  },
  {
   "cell_type": "code",
   "execution_count": null,
   "id": "3ade18ad",
   "metadata": {},
   "outputs": [],
   "source": [
    "class_names[pred_class]"
   ]
  },
  {
   "cell_type": "markdown",
   "id": "b0eaaa06",
   "metadata": {},
   "source": [
    "## Prediction 3"
   ]
  },
  {
   "cell_type": "code",
   "execution_count": null,
   "id": "af243b18",
   "metadata": {},
   "outputs": [],
   "source": [
    "img_path = r\"C:\\Users\\datta\\OneDrive\\Documents\\panda_2.jpg\""
   ]
  },
  {
   "cell_type": "code",
   "execution_count": null,
   "id": "f5b47bc0",
   "metadata": {},
   "outputs": [],
   "source": [
    "img = image.load_img(img_path, target_size=(img_width, img_height))"
   ]
  },
  {
   "cell_type": "code",
   "execution_count": null,
   "id": "ef588b90",
   "metadata": {},
   "outputs": [],
   "source": [
    "img_arr = image.img_to_array(img)"
   ]
  },
  {
   "cell_type": "code",
   "execution_count": null,
   "id": "38bd1a84",
   "metadata": {},
   "outputs": [],
   "source": [
    "img_arr = np.expand_dims(img_arr, axis=0)"
   ]
  },
  {
   "cell_type": "code",
   "execution_count": null,
   "id": "ab7abf00",
   "metadata": {},
   "outputs": [],
   "source": [
    "img_arr = img_arr / 255.0"
   ]
  },
  {
   "cell_type": "code",
   "execution_count": null,
   "id": "ea04f8c8",
   "metadata": {},
   "outputs": [],
   "source": [
    "pred = model.predict(img_arr)"
   ]
  },
  {
   "cell_type": "code",
   "execution_count": null,
   "id": "c63daac4",
   "metadata": {},
   "outputs": [],
   "source": [
    "pred_class = np.argmax(pred)"
   ]
  },
  {
   "cell_type": "code",
   "execution_count": null,
   "id": "365a55e7",
   "metadata": {},
   "outputs": [],
   "source": [
    "class_names[pred_class]"
   ]
  },
  {
   "cell_type": "markdown",
   "id": "6305e79b",
   "metadata": {},
   "source": [
    "## Prediction 4"
   ]
  },
  {
   "cell_type": "code",
   "execution_count": null,
   "id": "65f93991",
   "metadata": {},
   "outputs": [],
   "source": [
    "img_path = r\"C:\\Users\\datta\\OneDrive\\Documents\\bear2.jpeg\""
   ]
  },
  {
   "cell_type": "code",
   "execution_count": null,
   "id": "c9a4c47d",
   "metadata": {},
   "outputs": [],
   "source": [
    "img = image.load_img(img_path, target_size=(img_width, img_height))"
   ]
  },
  {
   "cell_type": "code",
   "execution_count": null,
   "id": "687b5516",
   "metadata": {},
   "outputs": [],
   "source": [
    "img_arr = image.img_to_array(img)"
   ]
  },
  {
   "cell_type": "code",
   "execution_count": null,
   "id": "256b3f7f",
   "metadata": {},
   "outputs": [],
   "source": [
    "img_arr = np.expand_dims(img_arr, axis=0)"
   ]
  },
  {
   "cell_type": "code",
   "execution_count": null,
   "id": "60da779a",
   "metadata": {},
   "outputs": [],
   "source": [
    "img_arr = img_arr / 255.0"
   ]
  },
  {
   "cell_type": "code",
   "execution_count": null,
   "id": "26caec55",
   "metadata": {},
   "outputs": [],
   "source": [
    "pred = model.predict(img_arr)"
   ]
  },
  {
   "cell_type": "code",
   "execution_count": null,
   "id": "96f85e78",
   "metadata": {},
   "outputs": [],
   "source": [
    "pred_class = np.argmax(pred)"
   ]
  },
  {
   "cell_type": "code",
   "execution_count": null,
   "id": "1fb02993",
   "metadata": {},
   "outputs": [],
   "source": [
    "class_names[pred_class]"
   ]
  },
  {
   "cell_type": "markdown",
   "id": "97f8725c",
   "metadata": {},
   "source": [
    "## Prediction 5"
   ]
  },
  {
   "cell_type": "code",
   "execution_count": null,
   "id": "05d52475",
   "metadata": {},
   "outputs": [],
   "source": [
    "img_path = r\"C:\\Users\\datta\\OneDrive\\Documents\\panda_3.jpeg\""
   ]
  },
  {
   "cell_type": "code",
   "execution_count": null,
   "id": "60f870d5",
   "metadata": {},
   "outputs": [],
   "source": [
    "img = image.load_img(img_path, target_size=(img_width, img_height))"
   ]
  },
  {
   "cell_type": "code",
   "execution_count": null,
   "id": "74c72683",
   "metadata": {},
   "outputs": [],
   "source": [
    "img_arr = image.img_to_array(img)"
   ]
  },
  {
   "cell_type": "code",
   "execution_count": null,
   "id": "87afc90d",
   "metadata": {},
   "outputs": [],
   "source": [
    "img_arr = np.expand_dims(img_arr, axis=0)"
   ]
  },
  {
   "cell_type": "code",
   "execution_count": null,
   "id": "3f1d5240",
   "metadata": {},
   "outputs": [],
   "source": [
    "img_arr = img_arr / 255.0"
   ]
  },
  {
   "cell_type": "code",
   "execution_count": null,
   "id": "cebd6997",
   "metadata": {},
   "outputs": [],
   "source": [
    "pred = model.predict(img_arr)"
   ]
  },
  {
   "cell_type": "code",
   "execution_count": null,
   "id": "6d90a716",
   "metadata": {},
   "outputs": [],
   "source": [
    "pred_class = np.argmax(pred)"
   ]
  },
  {
   "cell_type": "code",
   "execution_count": null,
   "id": "b2afcad5",
   "metadata": {},
   "outputs": [],
   "source": [
    "class_names[pred_class]"
   ]
  },
  {
   "cell_type": "code",
   "execution_count": null,
   "id": "ded82604",
   "metadata": {},
   "outputs": [],
   "source": []
  }
 ],
 "metadata": {
  "kernelspec": {
   "display_name": "Python 3 (ipykernel)",
   "language": "python",
   "name": "python3"
  },
  "language_info": {
   "codemirror_mode": {
    "name": "ipython",
    "version": 3
   },
   "file_extension": ".py",
   "mimetype": "text/x-python",
   "name": "python",
   "nbconvert_exporter": "python",
   "pygments_lexer": "ipython3",
   "version": "3.11.3"
  }
 },
 "nbformat": 4,
 "nbformat_minor": 5
}
